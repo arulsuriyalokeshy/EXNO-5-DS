{
  "cells": [
    {
      "cell_type": "markdown",
      "metadata": {
        "id": "ZpmPWTIR5Kdl"
      },
      "source": [
        "**Data visualization Using Matplotlib**\n"
      ]
    },
    {
      "cell_type": "code",
      "execution_count": null,
      "metadata": {
        "id": "ne1kYA7c5FrF"
      },
      "outputs": [],
      "source": [
        "import pandas as pd\n",
        "import numpy as np\n",
        "import seaborn as sns\n",
        "import matplotlib.pyplot as plt"
      ]
    },
    {
      "cell_type": "code",
      "execution_count": null,
      "metadata": {
        "id": "nCcjbW9O5NST"
      },
      "outputs": [],
      "source": [
        "import matplotlib.pyplot as plt\n",
        "x=[0,1,2,3,4,5]\n",
        "y=[0,1,4,9,16,25]\n",
        "plt.plot(x,y)\n",
        "plt.show()"
      ]
    },
    {
      "cell_type": "code",
      "execution_count": null,
      "metadata": {
        "id": "JSvFpHor5Q4R"
      },
      "outputs": [],
      "source": [
        "# CREATE A LINE GRAPH FOR X AND Y AND LABEL X axis and Y Axis and create a legend"
      ]
    },
    {
      "cell_type": "code",
      "execution_count": null,
      "metadata": {
        "id": "rCOeMm_X99OF"
      },
      "outputs": [],
      "source": [
        "# line 1 points\n",
        "import matplotlib.pyplot as plt\n",
        "x=[1,2,3]\n",
        "y=[2,4,1]\n",
        "plt.plot(x,y)\n",
        "plt.xlabel(\"x-axis\")\n",
        "plt.ylabel(\"y-axis\")\n",
        "plt.title(\"My First Graph\")\n",
        "plt.show()"
      ]
    },
    {
      "cell_type": "code",
      "execution_count": null,
      "metadata": {
        "id": "mPnleF5R-XmM"
      },
      "outputs": [],
      "source": [
        "# plot line 1 and line 2 points in same graph and include the necessary parameters\n",
        "import matplotlib.pyplot as plt\n",
        "x1=[1,2,3]\n",
        "y1=[2,4,1]\n",
        "plt.plot(x1,y1,label=\"Line 1\")\n",
        "x2=[1,2,3]\n",
        "y2=[4,1,3]\n",
        "plt.plot(x2,y2,label=\"Line 2\")\n",
        "plt.xlabel(\"x-axis\")\n",
        "plt.ylabel(\"y-axis\")\n",
        "plt.title(\"Two lines on same graph\")\n",
        "plt.legend()\n",
        "plt.show()"
      ]
    },
    {
      "cell_type": "code",
      "execution_count": null,
      "metadata": {
        "id": "ek9nhdvY-dly"
      },
      "outputs": [],
      "source": [
        "import matplotlib.pyplot as plt\n",
        "x=[1,2,3,4,5,6]\n",
        "y=[2,4,1,5,2,6]\n",
        "plt.plot(x,y,color=\"green\",linestyle='dashed',linewidth=3,marker='o',markerfacecolor='blue',markersize=12)\n",
        "plt.ylim(1,8)\n",
        "plt.xlim(1,8)\n",
        "plt.xlabel(\"x-axis\")\n",
        "plt.ylabel(\"y-axis\")\n",
        "plt.title(\"Some Cool Customizations!\")\n",
        "plt.show()"
      ]
    },
    {
      "cell_type": "code",
      "execution_count": null,
      "metadata": {
        "id": "MofkNnSt5xZQ"
      },
      "outputs": [],
      "source": [
        "yeild_apples=[0.895,0.91,0.919,0.926,0.929,0.931]\n",
        "plt.plot(yeild_apples)"
      ]
    },
    {
      "cell_type": "code",
      "execution_count": null,
      "metadata": {
        "id": "AFKPiqAV5ZWw"
      },
      "outputs": [],
      "source": [
        "years=[2010,2011,2012,2013,2014,2015]\n",
        "yeild_apples=[0.895,0.91,0.919,0.926,0.929,0.931]\n",
        "plt.plot(years,yeild_apples)\n",
        "plt.show()"
      ]
    },
    {
      "cell_type": "code",
      "execution_count": null,
      "metadata": {
        "id": "7iPX5LAf-0Ty"
      },
      "outputs": [],
      "source": [
        "years=range(2000,2012)\n",
        "apples= [0.895,0.91,0.919,0.926,0.929,0.931,0.934,0.936,0.937,0.9375,0.9372,0.939]\n",
        "oranges=[0.962,0.941,0.930,0.923,0.918,0.908,0.907,0.904,0.901,0.898,0.9,0.896,]\n",
        "plt.plot(years,apples)\n",
        "plt.plot(years,oranges)\n",
        "plt.xlabel('Year')\n",
        "plt.ylabel('Yeild(tons per hectare)');"
      ]
    },
    {
      "cell_type": "code",
      "execution_count": null,
      "metadata": {
        "id": "7OeLM1md_CJH"
      },
      "outputs": [],
      "source": [
        "plt.plot(years,apples)\n",
        "plt.plot(years,oranges)\n",
        "plt.xlabel('Year')\n",
        "plt.ylabel('Yeild(tons per hectare)')\n",
        "plt.title(\"Crop Yeilds in Kanto\")\n",
        "plt.legend(['Apples','Oranges']);"
      ]
    },
    {
      "cell_type": "code",
      "execution_count": null,
      "metadata": {
        "id": "Xm_NFeu1_TgC"
      },
      "outputs": [],
      "source": [
        "years=[2010,2011,2012,2013,2014,2015]\n",
        "yeild_apples=[0.895,0.91,0.919,0.926,0.929,0.931]\n",
        "plt.plot(years,yeild_apples)\n",
        "plt.xlabel('Year')\n",
        "plt.ylabel('Yeild(tons per hectare)');"
      ]
    },
    {
      "cell_type": "markdown",
      "metadata": {
        "id": "tRdqQerc_uHC"
      },
      "source": [
        "**BAR GRAPH**"
      ]
    },
    {
      "cell_type": "code",
      "execution_count": null,
      "metadata": {
        "id": "Wq0Lh0LH_cRK"
      },
      "outputs": [],
      "source": [
        "import matplotlib.pyplot as plt\n",
        "height=[10,24,36,40,5]\n",
        "names=['one','two','three','four','five']\n",
        "c1=['red','green']\n",
        "c2=['b','g']\n",
        "plt.bar(names,height,width=0.8,color=c1)\n",
        "plt.xlabel('x-axis')\n",
        "plt.ylabel('y-axis')\n",
        "plt.title('My bar chart!')\n",
        "plt.show()"
      ]
    },
    {
      "cell_type": "code",
      "execution_count": null,
      "metadata": {
        "id": "0Mucc6HT_e2k"
      },
      "outputs": [],
      "source": [
        "\n",
        "x=[2,8,10]\n",
        "y=[11,16,9]\n",
        "x2=[3,9,11]\n",
        "y2=[6,15,11]\n",
        "plt.bar(x,y,color='r')\n",
        "plt.bar(x2,y2,color='g')\n",
        "plt.title('Bar graph')\n",
        "plt.ylabel('Y axis')\n",
        "plt.xlabel('X axis')\n",
        "plt.show()"
      ]
    },
    {
      "cell_type": "code",
      "execution_count": null,
      "metadata": {
        "id": "hYO6yvQT_sdT"
      },
      "outputs": [],
      "source": [
        "import matplotlib.pyplot as plt\n",
        "ages=[2,5,70,40,30,45,50,45,50,45,43,40,44,60,7,13,57,18,90,77,32,21,20,40]\n",
        "range=(0,100)\n",
        "bins=10\n",
        "plt.hist(ages,bins,range,color='green',histtype='bar',rwidth=0.8)\n",
        "plt.xlabel('age')\n",
        "plt.ylabel('No.of people')\n",
        "plt.title('My histogram')\n",
        "plt.show()"
      ]
    },
    {
      "cell_type": "code",
      "execution_count": null,
      "metadata": {
        "id": "-3OJdr-caVSe"
      },
      "outputs": [],
      "source": [
        "import matplotlib.pyplot as plt\n",
        "import numpy as np\n",
        "np.random.seed(0)\n",
        "data=np.random.normal(loc=0,scale=1,size=100)\n",
        "data"
      ]
    },
    {
      "cell_type": "code",
      "execution_count": null,
      "metadata": {
        "id": "0GfUs2yLaWGx"
      },
      "outputs": [],
      "source": [
        "fig,ax=plt.subplots()\n",
        "ax.boxplot(data)\n",
        "ax.set_xlabel('Data')\n",
        "ax.set_ylabel('Values')\n",
        "ax.set_title('Box plot')"
      ]
    },
    {
      "cell_type": "markdown",
      "metadata": {
        "id": "GNxh0Jwlc_3g"
      },
      "source": [
        "**SCATTER PLOT**"
      ]
    },
    {
      "cell_type": "code",
      "execution_count": null,
      "metadata": {
        "id": "sXgSJgLya0sp"
      },
      "outputs": [],
      "source": [
        "x_values = [0,1,2,3,4,5]\n",
        "y_values = [0,1,4,9,16,25]"
      ]
    },
    {
      "cell_type": "code",
      "execution_count": null,
      "metadata": {
        "id": "SFqignYy5ovN"
      },
      "outputs": [],
      "source": [
        "# CREATE A SCATTER PLOT FOR X_VALUES AND Y_VALUES"
      ]
    },
    {
      "cell_type": "code",
      "execution_count": null,
      "metadata": {
        "id": "zg9L-696dGBW"
      },
      "outputs": [],
      "source": [
        "# x-axis values\n",
        "x = [1,2,3,4,5,6,7,8,9,10]\n",
        "# y-axis values\n",
        "y = [2,4,5,7,6,8,9,11,12,12]"
      ]
    },
    {
      "cell_type": "code",
      "execution_count": null,
      "metadata": {
        "id": "1MBAS6eDdcIR"
      },
      "outputs": [],
      "source": [
        "# plot the above points x and y in scatter plot Using the parmeters label= \"stars\", color=\"green\", marker=\"*\", s=30"
      ]
    },
    {
      "cell_type": "code",
      "execution_count": null,
      "metadata": {
        "id": "ZhY3_ltJdvi_"
      },
      "outputs": [],
      "source": [
        "# set x-axis label and y axis label\n",
        "\n"
      ]
    },
    {
      "cell_type": "code",
      "execution_count": null,
      "metadata": {
        "id": "JAol1RRmeBvE"
      },
      "outputs": [],
      "source": [
        "# set the title and legend of the graph\n"
      ]
    },
    {
      "cell_type": "markdown",
      "metadata": {
        "id": "bdGi3q8keSzm"
      },
      "source": [
        "**Pie-chart**"
      ]
    },
    {
      "cell_type": "code",
      "execution_count": null,
      "metadata": {
        "id": "U8Kw1PMGeWRL"
      },
      "outputs": [],
      "source": [
        "labels='Python','C++','Ruby','Java'\n",
        "sizes=[215,130,245,210]\n",
        "colors=['gold','yellowgreen','lightcoral','lightskyblue']\n",
        "explode=(0,0.4,0,0.5)\n",
        "plt.pie(sizes,explode=explode,labels=labels,colors=colors,\n",
        "autopct='%1.1f%%',shadow=True)\n",
        "plt.axis('equal')\n",
        "plt.show()"
      ]
    },
    {
      "cell_type": "code",
      "execution_count": null,
      "metadata": {
        "id": "rSpqzDqdefhO"
      },
      "outputs": [],
      "source": [
        "activities=['eat','sleep','work','play']\n",
        "slices=[3,7,8,6]\n",
        "colors=['r','y','g','b']\n",
        "plt.pie(slices,labels=activities,colors=colors,\n",
        "        startangle=90,shadow=True,explode=(0,0,0.1,0),\n",
        "        radius=1.2,autopct='%1.1f%%')\n",
        "plt.legend()"
      ]
    }
  ],
  "metadata": {
    "colab": {
      "provenance": []
    },
    "kernelspec": {
      "display_name": "Python 3",
      "name": "python3"
    },
    "language_info": {
      "name": "python"
    }
  },
  "nbformat": 4,
  "nbformat_minor": 0
}
